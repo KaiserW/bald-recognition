{
 "cells": [
  {
   "cell_type": "code",
   "execution_count": 1,
   "metadata": {
    "collapsed": true
   },
   "outputs": [],
   "source": [
    "# 导入常用模块\n",
    "import numpy as np\n",
    "import pandas as pd\n",
    "import matplotlib.pyplot as plt\n",
    "%matplotlib inline"
   ]
  },
  {
   "cell_type": "markdown",
   "metadata": {},
   "source": [
    "# 0. 给脸"
   ]
  },
  {
   "cell_type": "code",
   "execution_count": 2,
   "metadata": {
    "collapsed": true
   },
   "outputs": [],
   "source": [
    "# 网络请求模块\n",
    "import requests"
   ]
  },
  {
   "cell_type": "code",
   "execution_count": null,
   "metadata": {
    "collapsed": true
   },
   "outputs": [],
   "source": [
    "# 百度AI开放平台参数\n",
    "# 访问ai.baidu.com自行申请账号（免费）\n",
    "client_id =\n",
    "client_secret =  "
   ]
  },
  {
   "cell_type": "code",
   "execution_count": 3,
   "metadata": {
    "collapsed": true
   },
   "outputs": [],
   "source": [
    "host = 'https://aip.baidubce.com/oauth/2.0/token?grant_type=client_credentials&client_id={}&client_secret={}'.format(client_id, client_secret)"
   ]
  },
  {
   "cell_type": "code",
   "execution_count": 4,
   "metadata": {
    "collapsed": true
   },
   "outputs": [],
   "source": [
    "# 获取API token\n",
    "token_r = requests.post(host, headers={'Content-Type':'application/json'})"
   ]
  },
  {
   "cell_type": "code",
   "execution_count": 5,
   "metadata": {},
   "outputs": [
    {
     "data": {
      "text/plain": [
       "{'access_token': '24.3db10a160f53c837fafb882e57246a4f.2592000.1531237568.282335-11376865',\n",
       " 'session_key': '9mzdCKD3UUFSkwdxjtwe3/cEuRkv8udujxCuIUlQzcg1MG4HoxPwizViBUklHt0J/3rEbf9KEtEo7LayMuVoADmnrodmZw==',\n",
       " 'scope': 'public brain_all_scope vis-faceverify_faceverify_h5-face-liveness vis-faceverify_FACE_V3 wise_adapt lebo_resource_base lightservice_public hetu_basic lightcms_map_poi kaidian_kaidian ApsMisTest_Test权限 vis-classify_flower lpq_开放 cop_helloScope ApsMis_fangdi_permission smartapp_snsapi_base iop_autocar',\n",
       " 'refresh_token': '25.3c643144dca123b754d06f5372361421.315360000.1844005568.282335-11376865',\n",
       " 'session_secret': '524c1c4ec0e87fe35aea537ff873e1f2',\n",
       " 'expires_in': 2592000}"
      ]
     },
     "execution_count": 5,
     "metadata": {},
     "output_type": "execute_result"
    }
   ],
   "source": [
    "token_r.json()"
   ]
  },
  {
   "cell_type": "code",
   "execution_count": 6,
   "metadata": {
    "collapsed": true
   },
   "outputs": [],
   "source": [
    "# 人脸识别API地址\n",
    "face_base_url = 'https://aip.baidubce.com/rest/2.0/face/v3/detect'"
   ]
  },
  {
   "cell_type": "code",
   "execution_count": 7,
   "metadata": {
    "collapsed": true
   },
   "outputs": [],
   "source": [
    "url = face_base_url + '?access_token=' + token_r.json()['access_token']"
   ]
  },
  {
   "cell_type": "code",
   "execution_count": 9,
   "metadata": {
    "collapsed": true
   },
   "outputs": [],
   "source": [
    "# 试验：用一张葛优照片自动截取脑门\n",
    "\n",
    "# 对图片进行base64编码（API要求）\n",
    "import base64\n",
    "\n",
    "with open('geyou.jpg', 'rb') as f:\n",
    "    geyou = base64.b64encode(f.read())"
   ]
  },
  {
   "cell_type": "code",
   "execution_count": 10,
   "metadata": {
    "collapsed": true
   },
   "outputs": [],
   "source": [
    "# 向API发送请求，识别葛优照片\n",
    "face_r = requests.post(url, headers={'Content-Type':'application/json'}, \n",
    "                       data={'image':geyou,\n",
    "                             'image_type':'BASE64'})"
   ]
  },
  {
   "cell_type": "code",
   "execution_count": 11,
   "metadata": {},
   "outputs": [
    {
     "data": {
      "text/plain": [
       "{'error_code': 0,\n",
       " 'error_msg': 'SUCCESS',\n",
       " 'log_id': 2386250592,\n",
       " 'timestamp': 1528645672,\n",
       " 'cached': 0,\n",
       " 'result': {'face_num': 1,\n",
       "  'face_list': [{'face_token': '5da6f2d21ca7ad155e06fb594feba66d',\n",
       "    'location': {'left': 77.47813416,\n",
       "     'top': 113.414772,\n",
       "     'width': 171,\n",
       "     'height': 162,\n",
       "     'rotation': -1},\n",
       "    'face_probability': 1,\n",
       "    'angle': {'yaw': -8.28107357,\n",
       "     'pitch': 1.144884944,\n",
       "     'roll': -2.983301163}}]}}"
      ]
     },
     "execution_count": 11,
     "metadata": {},
     "output_type": "execute_result"
    }
   ],
   "source": [
    "# 识别结果\n",
    "face_r.json()"
   ]
  },
  {
   "cell_type": "code",
   "execution_count": 18,
   "metadata": {
    "collapsed": true
   },
   "outputs": [],
   "source": [
    "# 与脸部相关的坐标参数\n",
    "face = [int(i) for i in face_r.json()['result']['face_list'][0]['location'].values()]"
   ]
  },
  {
   "cell_type": "code",
   "execution_count": 19,
   "metadata": {},
   "outputs": [
    {
     "data": {
      "text/plain": [
       "[77, 113, 171, 162, -1]"
      ]
     },
     "execution_count": 19,
     "metadata": {},
     "output_type": "execute_result"
    }
   ],
   "source": [
    "face"
   ]
  },
  {
   "cell_type": "code",
   "execution_count": 14,
   "metadata": {},
   "outputs": [
    {
     "data": {
      "text/plain": [
       "<matplotlib.image.AxesImage at 0x27472ac18d0>"
      ]
     },
     "execution_count": 14,
     "metadata": {},
     "output_type": "execute_result"
    },
    {
     "data": {
      "image/png": "[encoded data removed]",
      "text/plain": [
       "<Figure size 432x288 with 1 Axes>"
      ]
     },
     "metadata": {},
     "output_type": "display_data"
    }
   ],
   "source": [
    "plt.imshow(plt.imread('geyou.jpg'))"
   ]
  },
  {
   "cell_type": "markdown",
   "metadata": {},
   "source": [
    "# 1. 不要脸"
   ]
  },
  {
   "cell_type": "code",
   "execution_count": 16,
   "metadata": {
    "collapsed": true
   },
   "outputs": [],
   "source": [
    "# 读取葛优照片，转为numpy.ndarray格式\n",
    "geyou_array = plt.imread('geyou.jpg')"
   ]
  },
  {
   "cell_type": "code",
   "execution_count": 20,
   "metadata": {},
   "outputs": [
    {
     "data": {
      "image/png": "[encoded data removed]",
      "text/plain": [
       "<Figure size 432x288 with 1 Axes>"
      ]
     },
     "metadata": {},
     "output_type": "display_data"
    }
   ],
   "source": [
    "# 截取前额区域，另存为图片\n",
    "plt.imshow(geyou_array[max(0,face[3]-face[1]):face_locs[1],face_locs[0]:face_locs[0]+face_locs[2]])\n",
    "plt.axis('off')\n",
    "plt.savefig('geyou_forehead.jpg')"
   ]
  },
  {
   "cell_type": "code",
   "execution_count": 21,
   "metadata": {
    "collapsed": true
   },
   "outputs": [],
   "source": [
    "# matplotlib的图片另存效果不佳，改用PIL\n",
    "from PIL import Image\n",
    "im = Image.fromarray(geyou_array[max(0,face[3]-face[1]):face_locs[1],face_locs[0]:face_locs[0]+face_locs[2]])\n",
    "im.save('geyou_forehead.jpg')"
   ]
  },
  {
   "cell_type": "code",
   "execution_count": 22,
   "metadata": {
    "collapsed": true
   },
   "outputs": [],
   "source": [
    "# 从原始图片集中批量处理葛优和陈佩斯的照片\n",
    "\n",
    "import os\n",
    "bald_ids = {'1':'陈佩斯', '0':'葛优'}\n",
    "base_dir = 'dataset/face/'"
   ]
  },
  {
   "cell_type": "code",
   "execution_count": 26,
   "metadata": {
    "collapsed": true
   },
   "outputs": [],
   "source": [
    "file_names_0 = os.listdir(base_dir + bald_ids['0'])\n",
    "file_names_1 = os.listdir(base_dir + bald_ids['1'])"
   ]
  },
  {
   "cell_type": "code",
   "execution_count": 27,
   "metadata": {
    "collapsed": true
   },
   "outputs": [],
   "source": [
    "# 将“获得脸部区域”的代码写成一个函数\n",
    "def get_face(file_name):\n",
    "    \n",
    "    with open(file_name, 'rb') as f:\n",
    "        img_data = base64.b64encode(f.read())\n",
    "        \n",
    "    face_r = requests.post(url, headers={'Content-Type':'application/json'}, \n",
    "                           data={'image':img_data,\n",
    "                           'image_type':'BASE64'})\n",
    "    \n",
    "    face_locs = [int(i) for i in face_r.json()['result']['face_list'][0]['location'].values()]\n",
    "    \n",
    "    return face_locs"
   ]
  },
  {
   "cell_type": "code",
   "execution_count": 28,
   "metadata": {
    "collapsed": true
   },
   "outputs": [],
   "source": [
    "# 将“根据脸部坐标，获取前额区域”写成一个函数\n",
    "def get_forehead(img_array, face):\n",
    "    \n",
    "    forehead = img_array[max(0,face[1]-face[3]):face[1],face[0]:face[0]+face[2]]\n",
    "    \n",
    "    return forehead"
   ]
  },
  {
   "cell_type": "code",
   "execution_count": 31,
   "metadata": {
    "collapsed": true
   },
   "outputs": [],
   "source": [
    "from tqdm import tqdm\n",
    "import time"
   ]
  },
  {
   "cell_type": "code",
   "execution_count": 32,
   "metadata": {},
   "outputs": [
    {
     "name": "stderr",
     "output_type": "stream",
     "text": [
      "51it [02:03,  2.42s/it]\n"
     ]
    }
   ],
   "source": [
    "# 批量处理葛优\n",
    "for idx, img in tqdm(enumerate(file_names_0)):\n",
    "    \n",
    "    img_array = plt.imread(base_dir + bald_ids['0'] + '/' + img)\n",
    "    \n",
    "    face = get_face(base_dir + bald_ids['0'] + '/' + img)\n",
    "    forehead = get_forehead(img_array, face)\n",
    "    \n",
    "    image = Image.fromarray(forehead).resize((50,50))\n",
    "    image.save('dataset/forehead/0/' + '{}.jpg'.format(str(idx)))\n",
    "    \n",
    "    time.sleep(2)"
   ]
  },
  {
   "cell_type": "code",
   "execution_count": 33,
   "metadata": {
    "scrolled": true
   },
   "outputs": [
    {
     "name": "stderr",
     "output_type": "stream",
     "text": [
      "50it [02:01,  2.44s/it]\n"
     ]
    }
   ],
   "source": [
    "# 批量处理陈佩斯\n",
    "for idx, img in tqdm(enumerate(file_names_1)):\n",
    "    \n",
    "    try:\n",
    "        \n",
    "        img_array = plt.imread(base_dir + bald_ids['1'] + '/' + img)\n",
    "    \n",
    "        face = get_face(base_dir + bald_ids['1'] + '/' + img)\n",
    "        forehead = get_forehead(img_array, face)\n",
    "\n",
    "        image = Image.fromarray(forehead).resize((50,50))\n",
    "        image.save('dataset/forehead/1/' + '{}.jpg'.format(str(idx)))\n",
    "\n",
    "        time.sleep(2)\n",
    "        \n",
    "    except (KeyError, TypeError):\n",
    "        continue    "
   ]
  },
  {
   "cell_type": "markdown",
   "metadata": {},
   "source": [
    "# 2. 最终测试集"
   ]
  },
  {
   "cell_type": "code",
   "execution_count": null,
   "metadata": {
    "collapsed": true
   },
   "outputs": [],
   "source": [
    "# 额外搜集部分照片，用作最终测试\n",
    "test_dir = 'dataset/test/'"
   ]
  },
  {
   "cell_type": "code",
   "execution_count": null,
   "metadata": {
    "collapsed": true
   },
   "outputs": [],
   "source": [
    "file_names_test0 = os.listdir(test_dir + '0')\n",
    "file_names_test1 = os.listdir(test_dir + '1')"
   ]
  },
  {
   "cell_type": "code",
   "execution_count": null,
   "metadata": {
    "collapsed": true
   },
   "outputs": [],
   "source": [
    "for idx, img in tqdm(enumerate(file_names_test0)):\n",
    "    \n",
    "    img_array = plt.imread(test_dir + '0/' + img)\n",
    "    \n",
    "    face = get_face(test_dir + '0/' + img)\n",
    "    forehead = get_forehead(img_array, face)\n",
    "    \n",
    "    image = Image.fromarray(forehead).resize((50,50))\n",
    "    image.save('dataset/test/0/' + '{}.jpg'.format(str(idx)))\n",
    "    \n",
    "    time.sleep(2)"
   ]
  },
  {
   "cell_type": "code",
   "execution_count": null,
   "metadata": {
    "collapsed": true
   },
   "outputs": [],
   "source": [
    "for idx, img in tqdm(enumerate(file_names_test1)):\n",
    "    \n",
    "    img_array = plt.imread(test_dir + '1/' + img)\n",
    "    \n",
    "    face = get_face(test_dir + '1/' + img)\n",
    "    forehead = get_forehead(img_array, face)\n",
    "    \n",
    "    image = Image.fromarray(forehead).resize((50,50))\n",
    "    image.save('dataset/test/1/' + '{}.jpg'.format(str(idx)))\n",
    "    \n",
    "    time.sleep(2)"
   ]
  },
  {
   "cell_type": "code",
   "execution_count": null,
   "metadata": {
    "collapsed": true
   },
   "outputs": [],
   "source": []
  }
 ],
 "metadata": {
  "kernelspec": {
   "display_name": "Python 3",
   "language": "python",
   "name": "python3"
  },
  "language_info": {
   "codemirror_mode": {
    "name": "ipython",
    "version": 3
   },
   "file_extension": ".py",
   "mimetype": "text/x-python",
   "name": "python",
   "nbconvert_exporter": "python",
   "pygments_lexer": "ipython3",
   "version": "3.6.3"
  }
 },
 "nbformat": 4,
 "nbformat_minor": 2
}
